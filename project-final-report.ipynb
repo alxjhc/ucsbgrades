{
 "cells": [
  {
   "cell_type": "markdown",
   "metadata": {},
   "source": [
    "# The COVID-19 Pandemic and Student Performance: A Statistical Analysis on UCSB Grade Distributions Pre-, Peri-, and Post-Remote Instruction\n",
    "\n",
    "Alex Cho, Justin Liu, Natalia Dubon\n",
    "\n",
    "#### Author contributions\n",
    "\n",
    "Alex worked on the dataset description and code/results for the grade differences across departments.\n",
    "\n",
    "Justin worked on the aims, methods, code/results for the overall grade distribution, and discussion.\n",
    "\n",
    "Natalia worked on the abstract, background, aims, and methods.\n",
    "\n",
    "#### Abstract\n",
    "\n",
    "This research study endeavors to ascertain the effects of remote instruction during the COVID-19 pandemic on the distribution of grades at the University of California, Santa Barbara (UCSB). We analyzed a vast dataset consisting of 15 quarters spanning from Fall 2018 through Spring 2022 and exclusively filtered for undergraduate-level courses. The investigation revealed that the most prominent fluctuations in grade distribution transpired during the Spring 2020 quarter, characterized by a heightened proportion of students receiving A's, whereas the proportion of students receiving B's, C's, and D's decreased. Subsequently, the grade distributions gradually reverted to their pre-pandemic levels, indicating a relatively lenient grading policy during remote instruction. The study also scrutinized the mean grade point average (GPA) trends for six populated departments, namely PSTAT, MATH, ECON, TMP, PSY, and SOC. Notably, the mean GPA for these departments reached its peak during the Spring 2020 quarter and subsequently plateaued, with a downward trajectory towards the present day, implying the recovery of pre-pandemic grading standards. A further analysis compared the departments with the lowest and highest mean differences in GPA during two periods of time (before/during and during/after remote instruction), revealing that courses across most departments tended to be more generous in terms of grading during the pandemic. In summary, this research provides significant insights into the impact of remote instruction during the COVID-19 pandemic on the UCSB grading system, with important implications for academic policy and planning."
   ]
  },
  {
   "cell_type": "markdown",
   "metadata": {},
   "source": [
    "---\n",
    "## Introduction\n",
    "\n",
    "### Background\n",
    "\n",
    "The COVID-19 pandemic has brought about unprecedented disruptions to various aspects of life, including higher education. In response to the pandemic, UCSB shifted to remote instruction in Spring 2020 and continued with remote instruction for the 2020-2021 academic year. This shift in instructional mode has led to significant changes in teaching and assessment methods, and has potentially impacted student learning and performance. The aim of this data science project is to investigate the effect of the pandemic on grade distributions and student performance at UCSB. The project will utilize data on grade values from the past few years to compare the distribution of grades before, during, and after the pandemic. The project will also examine the distribution of grades across different departments to determine if there are any differences in how the pandemic has affected student performance. \n",
    "\n",
    "To conduct this study, our team will collect and clean data from UCSB's registrar's office under the Public Records Act. The data will be transformed into a format suitable for analysis and descriptive statistics will be utilized to provide an overview of the grade distributions during the time periods surrounding the pandemic. The distribution of grades will be compared across different majors, departments, and levels of courses to determine the mean GPA differences between different periods of time. Various data visualizations such as line graphs and bar plots will be used to identify any patterns or trends that may exist. The project aims to determine if the shift to remote learning has had an impact on student academic performance at UCSB. The results of this study will be useful for the university administration to understand the impact of the pandemic on student learning and performance, and to make informed decisions regarding the future of remote learning and assessment methods. \n",
    "\n",
    "### Aims\n",
    "\n",
    "This project looks into whether the transition to remote instruction during the COVID-19 pandemic had a noticeable impact on UCSB grades. Overall, the Spring 2020 quarter saw the biggest fluctuation in the distribution of grades, with a higher proportion of students receiving A’s and and a smaller proportion of students receiving B’s, C’s, and D’s compared to previous quarters. Grades in the following quarters gradually (but not quite) returned to their original pre-pandemic distributions, suggesting that remote classes generally offered generous grading policies.\n",
    "\n",
    "To investigate whether certain departments were more lenient with their grading policies during the pandemic, we adopted a quantitative approach that involved calculating the mean grades for each department before, during, and after online instruction (Fall 2018 to Winter 2020, Spring 2020 to Summer 2021, and Fall 2021 to Spring 2022, respectively). We then calculated the net change in mean GPA for each department before/during and during/after online instruction. Our findings suggest that grading policies were more forgiving as a result of the pandemic."
   ]
  },
  {
   "cell_type": "markdown",
   "metadata": {},
   "source": [
    "---\n",
    "## Materials and methods\n",
    "\n",
    "### Dataset\n",
    "\n",
    "The raw dataset contains UCSB grades reaching all the way back to Fall 2009 up until Spring 2022. Although this dataset was relatively tidy, we made sure to manipulate it further in the best possible way for an effective analysis. To do this, we thought about our questions in hand and chose to observe a total of 15 quarters starting from Fall 2018 through Spring 2022. This way, we would be able to analyze the distribution of grades from before, during, and after the COVID-19 pandemic. We also filtered for courses at the undergraduate level and excluded the graduate level due to the differing grading scales. After cutting down our dataset, we were left with 121,385 rows and 6 columns – Table 1 shows the first few rows of the dataset after tidying.\n",
    "\n",
    "> **Table 1:** example rows of the grades data.\n",
    "\n",
    "|    | Quarter   | Course Level2   | Course      | Instructor   | Grade Given   |   Sum of Student Count |\n",
    "|---:|:----------|:----------------|:------------|:-------------|:--------------|-----------------------:|\n",
    "|  0 | S22       | Undergraduate   | ANTH      2 | WALSH C      | A             |                    274 |\n",
    "|  1 | S22       | Undergraduate   | ANTH      2 | WALSH C      | A-            |                    101 |\n",
    "|  2 | S22       | Undergraduate   | ANTH      2 | WALSH C      | A+            |                     11 |\n",
    "|  3 | S22       | Undergraduate   | ANTH      2 | WALSH C      | B             |                     37 |\n",
    "|  4 | S22       | Undergraduate   | ANTH      2 | WALSH C      | B-            |                     13 |\n",
    "\n",
    "Table 2 contains information on each of the variables in our dataset.\n",
    "\n",
    "> **Table 2:** variable descriptions and units for each variable in the grades dataset.\n",
    "\n",
    "Name | Variable description | Type\n",
    "---|---|---\n",
    "Quarter | Quarter observed: F (Fall), W (Winter), S (Spring), M (Summer), followed by the last 2 digits of the year | Character\n",
    "Course Level2 | Undergraduate or graduate level | Character\n",
    "Course | Course name: abbreviated for each respective department, followed by the number code | Character\n",
    "Instructor | Instructor name: Last name, Initials | Character\n",
    "Grade Given | Letter grade given on a scale of A through F with +/- where applicable, including IP (in progress), P (pass), and NP (no pass) | Character\n",
    "Sum of Student Count | Number of students who received the corresponding grade | Numeric\n",
    "\n",
    "We ended up deriving more columns from the original ones (e.g. getting the `Department` column from the `Course` column) to be able to refer to them more readily when doing calculations and other analyses.\n",
    "\n",
    "### Methods\n",
    "\n",
    "To identify trends in the overall distribution of UCSB grades between the Fall 2018 and Spring 2022 quarters, we created line plots faceted by each letter grade. To account for the varying number of students taking classes each quarter (especially during the summer when there are considerably fewer students), the counts of students were converted to proportions. A considerable shift in the grade distribution occurred in the Spring 2020 quarter, and grades in subsequent quarters gradually returned their patterns before online instruction.\n",
    "\n",
    "To investigate whether certain departments were more lenient with their grading policies during the pandemic, a quantitative approach was taken that involved calculating the mean grades for each department before, during, and after online instruction. To ensure the numeric variables were continuous, the grades were strategically converted into the GPA numeric scale. By doing such, it could then be identified which departments were more strict or lenient with their grading policies during the pandemic based on the changes in mean GPA."
   ]
  },
  {
   "attachments": {},
   "cell_type": "markdown",
   "metadata": {},
   "source": [
    "---\n",
    "## Results\n",
    "\n",
    "### Overall distribution of grades from Fall 2018 to Spring 2022\n",
    "\n",
    "Determining changes in the distribution of UCSB grades during remote instruction requires focusing on the time period directly before and after it. Figure 1 shows the proportions of each letter grade received by UCSB undergraduate students over 4 academic years, beginning from Fall 2018.\n",
    "\n",
    "> **Figure 1:** distribution of grades at UCSB during each quarter from Fall 2018 to Spring 2022.\n",
    "\n",
    "<center><img src = 'images/grades-over-time.svg' style = 'width:800px'></center>\n",
    "\n",
    "It is important to note that these peaks and dips generally start in the Winter 2020 quarter, with the biggest changes occuring in the following quarter. The proportion of students receiving A+'s and A's noticeably peaks during Spring 2020. On the other hand, the plots for grades in the B, C, and D ranges show the largest dips in the same quarter, while the proportion of A-'s did not seem to change significantly as a result of the sudden transition to online learning. The grade distribution immediately following the Spring 2020 quarter have generally returned to or are still returning to their pre-pandemic levels. The P/NP (pass/no pass) grades, which are not counted towards one's GPA, are especially of interest since several UCSB departments extended the grading option to major-related courses during remote instruction (which is not usually allowed in a typical academic year) – a smaller proportion of students utilized this option compared to previous quarters.\n",
    "\n",
    "### Grade differences across departments during online instruction\n",
    "\n",
    "The findings in the previous section support the claim that remote instruction did in fact impact the overall grade distribution, so we were curious to see whether certain departments conformed to this pattern. Figure 2 displays the trend in mean GPA across the same quarters of interest in 6 populated departments: PSTAT (Statistics & Applied Probability), MATH (Mathematics), ECON (Economics), TMP (Technology Management Program), PSY (Psychological & Brain Sciences), and SOC (Sociology).\n",
    "\n",
    "> **Figure 2:** mean GPA from Fall 2018 to Spring 2022 across several popular UCSB departments.\n",
    "\n",
    "<center><img src = 'images/populated-departments-grades.png' style = 'width:500px'></center>\n",
    "\n",
    "A similar trend is seen with the highest mean GPA in Spring 2020 before leveling off and showing a continuing downwards trend towards the present day. There is some volatility in the quarters right after Spring 2020, suggesting that professors initially struggled to adjust their grading policies for remote courses. The TMP department was an outlier in this case, as the mean GPA was all over the place and was generally much lower than the other departments.\n",
    "\n",
    "We then looked at the mean changes in GPA across all of the departments to see which departments tended to be more strict or lenient with their grading policies. Figure 3 shows the departments with the lowest and highest mean differences in GPA for two different periods: before and during online instruction as well as during and after online instruction.\n",
    "\n",
    "> **Figure 3:** changes in mean GPA between pre- and peri-online instruction (left) and peri- and post-online instruction (right). The departments with the lowest and highest GPA changes (10 each) are displayed. The green and red bars represent increases and decreases in mean GPA between the two periods, respectively.\n",
    "\n",
    "<center><img src = 'images/departments-grade-diffs.svg' style = 'width:900px'></center>\n",
    "\n",
    "Looking at the bar plot on the left, the 10 largest mean GPA *increases* (in green) between the pre- and peri-pandemic periods range from 0.3 to 0.6, which are considerably high. On the other hand, the largest mean GPA *decreases* (in red) in the same plot are much smaller in magnitude (less than 0.1). The bar plot on the right shows that the largest mean GPA increases and decreases are much more balanced. Notably, the Astronomy detpartment (ASTRO) saw an incredible 0.6 increase in mean GPA as a result of the shift but dropped down by a similar amount when compared with more recent trends."
   ]
  },
  {
   "attachments": {},
   "cell_type": "markdown",
   "metadata": {},
   "source": [
    "---\n",
    "## Discussion\n",
    "\n",
    "This project analyzed how grades at UCSB were affected by the transition to remote instruction as a result of the COVID-19 pandemic. Our analysis focused on the overall grade distribution from Fall 2018 to Spring 2022 (Figure 1) as well as the change in mean GPA across different academic departments throughout the pandemic (Figures 2 & 3).\n",
    "\n",
    "Changes in the overall grade distributions generally began in Winter 2020 since COVID-19 made its impact towards the end of the quarter. According to a [message](https://chancellor.ucsb.edu/memos/2020-03-10-covid-19-response-update-and-winterspring-quarter-guidance) from UCSB Chancellor Henry Yang, instructors were highly recommended to “make alternative arrangements for in-person classes and for final exams”, effective March 11, 2020. This may have led instructors to be less strict in grading due to the sudden change in learning environment for many students. Spring 2020 marked the first fully online quarter for UCSB – instructors were required to adjust their curriculums to remote formats. From the increase in the proportion of A’s and decrease in the proportion of lower grades and P/NP in Figure 1, we can infer that students generally took advantage of the generous policies that some instructors offered (e.g. recorded lectures, assignment extensions) to boost their GPAs. The gradual return to pre-pandemic grade distributions in the following quarters could be attributed to instructors better gauging the difficulty of their classes in remote formats and adjusting their policies accordingly.\n",
    "\n",
    "Furthermore, classes in most departments tended to be more lenient with their grading policies based on mean GPA. Figure 2 supports the idea that Spring 2020 had the most noticeable grade changes due to the peaks in mean GPA seen with 5 of the 6 departments we looked at. The TMP department was the only exception as its mean GPA tended to be lower and more inconsistent – this is most likely because TMP courses are much more dependent on real-life interactions and only count towards a certificate program rather than an academic major. The gap between the large mean GPA increases and the smaller mean GPA decreases between the pre- and peri-remote instruction (Figure 3, left plot) suggests that departments were generally understanding of their students' academic well-being. In fact, the 10th smallest decrease in mean GPA is 0 since the W&L or Writing & Literature department only has P/NP classes and thus no GPA associated with it. Since there are 68 unique departments in our data, this implies that 58 of these departments either showed no change or an increase in mean GPA during this period. The mean GPA increases and decreases are more balanced out when looking at the during/after online instruction period (Figure 3, right plot), suggesting a return to earlier grading policies.\n",
    "\n",
    "Our research and insights come with profound implications including but not limited to challenges and complaints in course registrations, as there are a limited number of spots for each course described in this analysis – often times not enough to meet students' demands. Although not analyzed here, our findings about grade distributions could potentially tell us a great deal about class size planning and administration. A promising extension of this analysis could involve choosing a department's course sequence and observing how many students recieve passing grades in that sequence each quarter to predict how many will take the next course and how many spots should be prepared accordingly for the following quarter to minimize such imbalances."
   ]
  }
 ],
 "metadata": {
  "kernelspec": {
   "display_name": "Python 3 (ipykernel)",
   "language": "python",
   "name": "python3"
  },
  "language_info": {
   "codemirror_mode": {
    "name": "ipython",
    "version": 3
   },
   "file_extension": ".py",
   "mimetype": "text/x-python",
   "name": "python",
   "nbconvert_exporter": "python",
   "pygments_lexer": "ipython3",
   "version": "3.9.12"
  }
 },
 "nbformat": 4,
 "nbformat_minor": 4
}
