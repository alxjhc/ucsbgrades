{
 "cells": [
  {
   "cell_type": "markdown",
   "metadata": {},
   "source": [
    "### Datasets"
   ]
  },
  {
   "cell_type": "markdown",
   "metadata": {},
   "source": [
    "Although our raw dataset was relatively tidy, we made sure to manipulate it further in the best possible way for an effective analysis. To do this we thought about our questions in hand and chose to observe a total of 15 quarters starting from Fall 2018 through Spring 2022. The raw dataset had records reaching all the way back to Fall 2009. This way, we would be able to analyze the distribution of grades from before and during the Covid-19 pandemic. We also filtered for courses at the Undergraduate level and excluded the Graduate level. This is what our `grades` dataframe looks like.\n",
    "\n",
    "![Grades Dataframe](images/grades.png \"Title\")\n",
    "\n",
    "There are 121385 rows and 6 columns. The columns are as follows: \"Quarter\" corresponds to the quarter and year denoted as the first letter and the last two digits of the year, (i.e. \"F18\"). The second column is \"Course Level2\" which would read as \"Undergraduate\" because we filtered as mentioned before. \"Course\" refers to the course code that each distinct class uses, (i.e. \"PSTAT 100\"). Next, \"Instructor\" is their last name followed by first initial. \"Grade Given\" corresponds to the letter grade distributed on the A+ to F scale, also including \"IP\" (In Progress), \"P\" (Pass), and \"NP\" (No Pass). The last column, \"Sum of Student Count\" refers to how many students received the corresponding letter grade in that given class.\n",
    "\n",
    "Name | Variable description | Type\n",
    "---|---|---\n",
    "Quarter | Quarter observed: F (Fall), W (Winter), S (Spring), M (Summer), followed by the last 2 digits of the year | Character\n",
    "Course Level2 | Undergraduate or graduate level | Character\n",
    "Course | Course name: abbreviated for each respective department, followed by the number code | Character\n",
    "Instructor | Instructor name: Last name, Initials | Character\n",
    "Grade Given | Letter grade given on a scale of A through F with +/- where applicable, including IP (in progress), P (pass), and NP (no pass) | Character\n",
    "Sum of Student Count | Number of students who received the corresponding grade | Numeric\n",
    "\n",
    "We ended up adding more columns derived from the original ones to be able to refer to them more readily when doing calculations and other analyses and that will be covered later in the Methods section."
   ]
  },
  {
   "cell_type": "markdown",
   "metadata": {},
   "source": [
    "## Results"
   ]
  },
  {
   "cell_type": "markdown",
   "metadata": {},
   "source": [
    "This is a figure of 16 line graphs, one for each letter grade on the A+ to F scale, including IP, P, and NP. On the x-axis we have the quarters of interest in order and the y-axis represents the proportion of students that received that grade (out of 1). We observed that the proportion of A+'s and A's jumped significantly between Fall 2019 and Spring 2020, before leveling off the following quarters, a proportion increase of about 0.06 and 0.12 respectively. Conversely, the proportions explained by the letter grades of B through the failing grades saw a trend inverse of that of the former. For example, there were less B's by 0.05 in the similar time frame and 0.03 less C's. We can conclude that professors became more lenient with their grade distributions as a result of the shift in learning caused by the Covid-19 pandemic.\n",
    "\n",
    "![Each Letter Grade](images/each_grade.png \"Title\")\n",
    "\n",
    "This is a line chart showing the distribution of each grade in the PSTAT department by quarter. As mentioned before, there was a significant proportion increase in A's.\n",
    "\n",
    "![PSTAT Department](images/pstat.png \"Title\")\n",
    "\n",
    "This is a chart displaying the trend in mean GPA for any departments and quarters that you wish to see (after converting letter grades into a numerical point scale). For this sample, we chose the PSTAT, MATH, ECON, TMP, PSY, and SOC departments as these are very populated majors. As seen, a similar trend is present as expected with the highest mean GPA in Spring 2020 before leveling off and showing a continuing downwards trend towards present day. We see volatility in the quarters right after Spring 2020, and this is explained by professors struggling to adjust standards for grade distributions. The TMP department was an outlier in this case, mean GPA was all over the place and was much lower than the other departments- this is explained by TMP courses curriculum being much more dependent on real life interactions, and was perceived as a secondary field of study, where students would prioritize their main courses first.\n",
    "\n",
    "![Quarters and Departments of Choice](images/dept_q_choice.png \"Title\")\n",
    "\n",
    "The following figures are of two bar plots, the first showing the top 5 and bottom 5 departments in terms of change in mean GPA between during and before the Covid-19 pandemic. It was interesting to see two common departments on both sides of the spectrum on both occasions- the Astronomy detpartment saw an incredible 0.6 increase in mean GPA as a result of the shift but dropped down by a similar amount when compared with more recent trends, to take its place on the most extreme ends. On the other hand, the Education department saw a 0.1 decrease in mean during Covid but came back up by 0.3 later on.\n",
    "\n",
    "![Mean Differentials When Comparing After and During Covid-19](images/diff_2.png \"Title\")\n",
    "![Mean Differentials When Comparing During and Before Covid-19](images/diff_1.png \"Title\")"
   ]
  },
  {
   "cell_type": "markdown",
   "metadata": {},
   "source": [
    "## Code"
   ]
  },
  {
   "cell_type": "code",
   "execution_count": 1,
   "metadata": {},
   "outputs": [],
   "source": [
    "import pandas as pd\n",
    "import matplotlib.pyplot as plt\n",
    "import altair as alt"
   ]
  },
  {
   "cell_type": "code",
   "execution_count": 2,
   "metadata": {},
   "outputs": [],
   "source": [
    "import warnings\n",
    "warnings.filterwarnings('ignore')"
   ]
  },
  {
   "cell_type": "code",
   "execution_count": 3,
   "metadata": {},
   "outputs": [
    {
     "data": {
      "text/html": [
       "<div>\n",
       "<style scoped>\n",
       "    .dataframe tbody tr th:only-of-type {\n",
       "        vertical-align: middle;\n",
       "    }\n",
       "\n",
       "    .dataframe tbody tr th {\n",
       "        vertical-align: top;\n",
       "    }\n",
       "\n",
       "    .dataframe thead th {\n",
       "        text-align: right;\n",
       "    }\n",
       "</style>\n",
       "<table border=\"1\" class=\"dataframe\">\n",
       "  <thead>\n",
       "    <tr style=\"text-align: right;\">\n",
       "      <th></th>\n",
       "      <th>Quarter</th>\n",
       "      <th>Course Level2</th>\n",
       "      <th>Course</th>\n",
       "      <th>Instructor</th>\n",
       "      <th>Grade Given</th>\n",
       "      <th>Sum of Student Count</th>\n",
       "    </tr>\n",
       "  </thead>\n",
       "  <tbody>\n",
       "    <tr>\n",
       "      <th>0</th>\n",
       "      <td>S22</td>\n",
       "      <td>Undergraduate</td>\n",
       "      <td>ANTH      2</td>\n",
       "      <td>WALSH C</td>\n",
       "      <td>A</td>\n",
       "      <td>274</td>\n",
       "    </tr>\n",
       "    <tr>\n",
       "      <th>1</th>\n",
       "      <td>S22</td>\n",
       "      <td>Undergraduate</td>\n",
       "      <td>ANTH      2</td>\n",
       "      <td>WALSH C</td>\n",
       "      <td>A-</td>\n",
       "      <td>101</td>\n",
       "    </tr>\n",
       "    <tr>\n",
       "      <th>2</th>\n",
       "      <td>S22</td>\n",
       "      <td>Undergraduate</td>\n",
       "      <td>ANTH      2</td>\n",
       "      <td>WALSH C</td>\n",
       "      <td>A+</td>\n",
       "      <td>11</td>\n",
       "    </tr>\n",
       "    <tr>\n",
       "      <th>3</th>\n",
       "      <td>S22</td>\n",
       "      <td>Undergraduate</td>\n",
       "      <td>ANTH      2</td>\n",
       "      <td>WALSH C</td>\n",
       "      <td>B</td>\n",
       "      <td>37</td>\n",
       "    </tr>\n",
       "    <tr>\n",
       "      <th>4</th>\n",
       "      <td>S22</td>\n",
       "      <td>Undergraduate</td>\n",
       "      <td>ANTH      2</td>\n",
       "      <td>WALSH C</td>\n",
       "      <td>B-</td>\n",
       "      <td>13</td>\n",
       "    </tr>\n",
       "  </tbody>\n",
       "</table>\n",
       "</div>"
      ],
      "text/plain": [
       "  Quarter  Course Level2       Course Instructor Grade Given  \\\n",
       "0     S22  Undergraduate  ANTH      2    WALSH C           A   \n",
       "1     S22  Undergraduate  ANTH      2    WALSH C          A-   \n",
       "2     S22  Undergraduate  ANTH      2    WALSH C          A+   \n",
       "3     S22  Undergraduate  ANTH      2    WALSH C           B   \n",
       "4     S22  Undergraduate  ANTH      2    WALSH C          B-   \n",
       "\n",
       "   Sum of Student Count  \n",
       "0                   274  \n",
       "1                   101  \n",
       "2                    11  \n",
       "3                    37  \n",
       "4                    13  "
      ]
     },
     "execution_count": 3,
     "metadata": {},
     "output_type": "execute_result"
    }
   ],
   "source": [
    "grades = pd.read_csv('data/ucsb-grades.csv')\n",
    "grades.head(5)"
   ]
  },
  {
   "cell_type": "code",
   "execution_count": 4,
   "metadata": {},
   "outputs": [],
   "source": [
    "# defining quarters of interest\n",
    "quarters = ['F18', 'W19', 'S19', 'M19', 'F19', 'W20',\n",
    "            'S20', 'M20', 'F20', 'W21', 'S21', 'M21',\n",
    "            'F21', 'W22', 'S22']"
   ]
  },
  {
   "cell_type": "code",
   "execution_count": 5,
   "metadata": {},
   "outputs": [
    {
     "data": {
      "text/html": [
       "<div>\n",
       "<style scoped>\n",
       "    .dataframe tbody tr th:only-of-type {\n",
       "        vertical-align: middle;\n",
       "    }\n",
       "\n",
       "    .dataframe tbody tr th {\n",
       "        vertical-align: top;\n",
       "    }\n",
       "\n",
       "    .dataframe thead th {\n",
       "        text-align: right;\n",
       "    }\n",
       "</style>\n",
       "<table border=\"1\" class=\"dataframe\">\n",
       "  <thead>\n",
       "    <tr style=\"text-align: right;\">\n",
       "      <th></th>\n",
       "      <th>Quarter</th>\n",
       "      <th>Course Level2</th>\n",
       "      <th>Course</th>\n",
       "      <th>Instructor</th>\n",
       "      <th>Grade Given</th>\n",
       "      <th>Sum of Student Count</th>\n",
       "      <th>GPA</th>\n",
       "    </tr>\n",
       "  </thead>\n",
       "  <tbody>\n",
       "    <tr>\n",
       "      <th>0</th>\n",
       "      <td>S22</td>\n",
       "      <td>Undergraduate</td>\n",
       "      <td>ANTH      2</td>\n",
       "      <td>WALSH C</td>\n",
       "      <td>A</td>\n",
       "      <td>274</td>\n",
       "      <td>4.0</td>\n",
       "    </tr>\n",
       "    <tr>\n",
       "      <th>1</th>\n",
       "      <td>S22</td>\n",
       "      <td>Undergraduate</td>\n",
       "      <td>ANTH      2</td>\n",
       "      <td>WALSH C</td>\n",
       "      <td>A-</td>\n",
       "      <td>101</td>\n",
       "      <td>3.7</td>\n",
       "    </tr>\n",
       "    <tr>\n",
       "      <th>2</th>\n",
       "      <td>S22</td>\n",
       "      <td>Undergraduate</td>\n",
       "      <td>ANTH      2</td>\n",
       "      <td>WALSH C</td>\n",
       "      <td>A+</td>\n",
       "      <td>11</td>\n",
       "      <td>4.0</td>\n",
       "    </tr>\n",
       "    <tr>\n",
       "      <th>3</th>\n",
       "      <td>S22</td>\n",
       "      <td>Undergraduate</td>\n",
       "      <td>ANTH      2</td>\n",
       "      <td>WALSH C</td>\n",
       "      <td>B</td>\n",
       "      <td>37</td>\n",
       "      <td>3.0</td>\n",
       "    </tr>\n",
       "    <tr>\n",
       "      <th>4</th>\n",
       "      <td>S22</td>\n",
       "      <td>Undergraduate</td>\n",
       "      <td>ANTH      2</td>\n",
       "      <td>WALSH C</td>\n",
       "      <td>B-</td>\n",
       "      <td>13</td>\n",
       "      <td>2.7</td>\n",
       "    </tr>\n",
       "    <tr>\n",
       "      <th>...</th>\n",
       "      <td>...</td>\n",
       "      <td>...</td>\n",
       "      <td>...</td>\n",
       "      <td>...</td>\n",
       "      <td>...</td>\n",
       "      <td>...</td>\n",
       "      <td>...</td>\n",
       "    </tr>\n",
       "    <tr>\n",
       "      <th>121380</th>\n",
       "      <td>F18</td>\n",
       "      <td>Undergraduate</td>\n",
       "      <td>WRIT    199</td>\n",
       "      <td>FRANK D M</td>\n",
       "      <td>A+</td>\n",
       "      <td>1</td>\n",
       "      <td>4.0</td>\n",
       "    </tr>\n",
       "    <tr>\n",
       "      <th>121381</th>\n",
       "      <td>F18</td>\n",
       "      <td>Undergraduate</td>\n",
       "      <td>WRIT    199</td>\n",
       "      <td>GENOVA G L</td>\n",
       "      <td>A+</td>\n",
       "      <td>3</td>\n",
       "      <td>4.0</td>\n",
       "    </tr>\n",
       "    <tr>\n",
       "      <th>121382</th>\n",
       "      <td>F18</td>\n",
       "      <td>Undergraduate</td>\n",
       "      <td>WRIT    199</td>\n",
       "      <td>MORRIS N S</td>\n",
       "      <td>A+</td>\n",
       "      <td>2</td>\n",
       "      <td>4.0</td>\n",
       "    </tr>\n",
       "    <tr>\n",
       "      <th>121383</th>\n",
       "      <td>F18</td>\n",
       "      <td>Undergraduate</td>\n",
       "      <td>WRIT    199</td>\n",
       "      <td>MORRIS N S</td>\n",
       "      <td>A</td>\n",
       "      <td>2</td>\n",
       "      <td>4.0</td>\n",
       "    </tr>\n",
       "    <tr>\n",
       "      <th>121384</th>\n",
       "      <td>F18</td>\n",
       "      <td>Undergraduate</td>\n",
       "      <td>WRIT    199</td>\n",
       "      <td>SORAPURE M I</td>\n",
       "      <td>A</td>\n",
       "      <td>1</td>\n",
       "      <td>4.0</td>\n",
       "    </tr>\n",
       "  </tbody>\n",
       "</table>\n",
       "<p>121385 rows × 7 columns</p>\n",
       "</div>"
      ],
      "text/plain": [
       "       Quarter  Course Level2       Course    Instructor Grade Given  \\\n",
       "0          S22  Undergraduate  ANTH      2       WALSH C           A   \n",
       "1          S22  Undergraduate  ANTH      2       WALSH C          A-   \n",
       "2          S22  Undergraduate  ANTH      2       WALSH C          A+   \n",
       "3          S22  Undergraduate  ANTH      2       WALSH C           B   \n",
       "4          S22  Undergraduate  ANTH      2       WALSH C          B-   \n",
       "...        ...            ...          ...           ...         ...   \n",
       "121380     F18  Undergraduate  WRIT    199     FRANK D M          A+   \n",
       "121381     F18  Undergraduate  WRIT    199    GENOVA G L          A+   \n",
       "121382     F18  Undergraduate  WRIT    199    MORRIS N S          A+   \n",
       "121383     F18  Undergraduate  WRIT    199    MORRIS N S           A   \n",
       "121384     F18  Undergraduate  WRIT    199  SORAPURE M I           A   \n",
       "\n",
       "        Sum of Student Count  GPA  \n",
       "0                        274  4.0  \n",
       "1                        101  3.7  \n",
       "2                         11  4.0  \n",
       "3                         37  3.0  \n",
       "4                         13  2.7  \n",
       "...                      ...  ...  \n",
       "121380                     1  4.0  \n",
       "121381                     3  4.0  \n",
       "121382                     2  4.0  \n",
       "121383                     2  4.0  \n",
       "121384                     1  4.0  \n",
       "\n",
       "[121385 rows x 7 columns]"
      ]
     },
     "execution_count": 5,
     "metadata": {},
     "output_type": "execute_result"
    }
   ],
   "source": [
    "# converting letter grades to grade point scale\n",
    "letter_to_gpa = [('A+', 4.0), ('A', 4.0), ('A-', 3.7), ('B+', 3.3), ('B', 3.0), ('B-', 2.7), ('C+', 2.3), ('C', 2.0), \n",
    "                 ('C-', 1.7), ('D+', 1.3), ('D', 1.0), ('D-', 0.7), ('F', 0.0)]\n",
    "grades['GPA'] = grades['Grade Given'].map(dict(letter_to_gpa))\n",
    "\n",
    "grades"
   ]
  },
  {
   "cell_type": "code",
   "execution_count": 6,
   "metadata": {},
   "outputs": [],
   "source": [
    "# create a new column called Unit Points that gets the product of the Sum of Student Count and GPA columns\n",
    "grades['Unit Points'] = grades['Sum of Student Count'] * grades['GPA']"
   ]
  },
  {
   "cell_type": "code",
   "execution_count": 7,
   "metadata": {},
   "outputs": [],
   "source": [
    "# remove unusual spacing between course and course numbers\n",
    "grades = grades.copy()\n",
    "course_split = grades['Course'].str.split()\n",
    "grades['Course'] = course_split.str.join(' ')\n",
    "\n",
    "# remove courses with 199 (independent study)\n",
    "grades = grades[~grades['Course'].str.contains('199')]\n",
    "\n",
    "# create departments column\n",
    "grades['Department'] = grades.loc[:, 'Course'].str.split().str[0]"
   ]
  },
  {
   "cell_type": "code",
   "execution_count": 8,
   "metadata": {},
   "outputs": [
    {
     "name": "stdout",
     "output_type": "stream",
     "text": [
      "Number of unique departments: 68\n"
     ]
    },
    {
     "data": {
      "text/plain": [
       "array(['ANTH', 'ART', 'ARTHI', 'AS AM', 'ASTRO', 'BIOL', 'BL', 'C LIT',\n",
       "       'CH ST', 'CHEM', 'CHIN', 'CLASS', 'CMPSC', 'CMPTGCS', 'CNCSP',\n",
       "       'COMM', 'DANCE', 'EACS', 'EARTH', 'ECE', 'ECON', 'ED', 'EEMB',\n",
       "       'ENGL', 'ENGR', 'ENV', 'ES', 'ESS', 'FAMST', 'FEMST', 'FR', 'GEOG',\n",
       "       'GER', 'GLOBL', 'GREEK', 'HIST', 'INT', 'ITAL', 'JAPAN', 'KOR',\n",
       "       'LAIS', 'LATIN', 'LING', 'MAT', 'MATH', 'MATRL', 'MCDB', 'ME',\n",
       "       'MS', 'MUS', 'PHIL', 'PHYS', 'POL', 'PORT', 'PSTAT', 'PSY', 'RG',\n",
       "       'RUSS', 'SHS', 'SLAV', 'SOC', 'SPAN', 'THTR', 'TMP', 'W&L', 'WRIT',\n",
       "       'MES', 'HEB'], dtype=object)"
      ]
     },
     "execution_count": 8,
     "metadata": {},
     "output_type": "execute_result"
    }
   ],
   "source": [
    "# online versions of a department grouped to original and names for a few departments updated accounting for the split\n",
    "grades['Department'] = grades['Department'].replace(\n",
    "    {'ARTHIW': 'ARTHI', \n",
    "     'AS': 'AS AM',\n",
    "     'C': 'C LIT', \n",
    "     'CH': 'CH ST',\n",
    "     'CMPSCW': 'CMPSC', \n",
    "     'CNCSPW': 'CNCSP', \n",
    "     'EARTHW': 'EARTH', \n",
    "     'PSTATW': 'PSTAT', \n",
    "     'DANCEW': 'DANCE', \n",
    "     'FAMSTW': 'FAMST', \n",
    "     'FEMSTW': 'FEMST'}\n",
    ")\n",
    "\n",
    "# show unique departments\n",
    "print('Number of unique departments:', len(grades.Department.unique()))\n",
    "grades.Department.unique()"
   ]
  },
  {
   "cell_type": "code",
   "execution_count": 9,
   "metadata": {},
   "outputs": [],
   "source": [
    "# split dataframe into 3 to get grades before, during, and after Covid-19 pandemic\n",
    "grades_before = grades[(grades['Quarter'].isin(quarters[:6]))]\n",
    "grades_during = grades[(grades['Quarter'].isin(quarters[6:12]))]\n",
    "grades_after = grades[(grades['Quarter'].isin(quarters[12:]))]"
   ]
  },
  {
   "cell_type": "code",
   "execution_count": 10,
   "metadata": {},
   "outputs": [],
   "source": [
    "# calculating means before Covid\n",
    "means_before_covid = {}\n",
    "for dept in grades_before.Department.unique():\n",
    "    grades_before_by_dept = grades_before[grades_before.Department == dept]\n",
    "    total_unit_points_before_covid = grades_before_by_dept['Unit Points'].sum()\n",
    "    total_sum_of_student_counts_before_covid = grades_before_by_dept['Sum of Student Count'].sum()\n",
    "    dept_mean_before = total_unit_points_before_covid / total_sum_of_student_counts_before_covid\n",
    "    means_before_covid[dept] = dept_mean_before"
   ]
  },
  {
   "cell_type": "code",
   "execution_count": 11,
   "metadata": {},
   "outputs": [],
   "source": [
    "# calculating means during Covid\n",
    "means_during_covid = {}\n",
    "for dept in grades_during.Department.unique():\n",
    "    grades_during_by_dept = grades_during[grades_during.Department == dept]\n",
    "    total_unit_points_during_covid = grades_during_by_dept['Unit Points'].sum()\n",
    "    total_sum_of_student_counts_during_covid = grades_during_by_dept['Sum of Student Count'].sum()\n",
    "    dept_mean_during = total_unit_points_during_covid / total_sum_of_student_counts_during_covid\n",
    "    means_during_covid[dept] = dept_mean_during"
   ]
  },
  {
   "cell_type": "code",
   "execution_count": 12,
   "metadata": {},
   "outputs": [],
   "source": [
    "# calculating means after Covid\n",
    "means_after_covid = {}\n",
    "for dept in grades_after.Department.unique():\n",
    "    grades_after_by_dept = grades_after[grades_after.Department == dept]\n",
    "    total_unit_points_after_covid = grades_after_by_dept['Unit Points'].sum()\n",
    "    total_sum_of_student_counts_after_covid = grades_after_by_dept['Sum of Student Count'].sum()\n",
    "    dept_mean_after = total_unit_points_after_covid / total_sum_of_student_counts_after_covid\n",
    "    means_after_covid[dept] = dept_mean_after"
   ]
  },
  {
   "cell_type": "code",
   "execution_count": 13,
   "metadata": {},
   "outputs": [],
   "source": [
    "# calculate difference in means between during and before\n",
    "diff_means_during_before = {}\n",
    "for dept in means_during_covid:\n",
    "    if dept in means_before_covid:\n",
    "        diff_mean_1 = means_during_covid[dept] - means_before_covid[dept]\n",
    "        diff_means_during_before[dept] = diff_mean_1\n",
    "\n",
    "sorted_during_before = dict(sorted(diff_means_during_before.items(), key=lambda item: item[1]))"
   ]
  },
  {
   "cell_type": "code",
   "execution_count": 14,
   "metadata": {},
   "outputs": [],
   "source": [
    "# calculate difference in means between after and during\n",
    "diff_means_after_during = {}\n",
    "for dept in means_after_covid:\n",
    "    if dept in means_during_covid:\n",
    "        diff_mean_2 = means_after_covid[dept] - means_during_covid[dept]\n",
    "        diff_means_after_during[dept] = diff_mean_2\n",
    "\n",
    "sorted_after_during = dict(sorted(diff_means_after_during.items(), key=lambda item: item[1]))"
   ]
  },
  {
   "cell_type": "code",
   "execution_count": 15,
   "metadata": {},
   "outputs": [],
   "source": [
    "# plot first differential\n",
    "during_before_means = pd.DataFrame(list(sorted_during_before.items()), columns=['Department', 'Mean Differential'])\n",
    "first_and_last_ten_during_before = pd.concat([during_before_means.head(10), during_before_means.tail(10)])\n",
    "during_before_chart = alt.Chart(first_and_last_ten_during_before).mark_bar().encode(\n",
    "    x = alt.X('Department:N', sort=list(during_before_means['Department'])),\n",
    "    y = alt.Y('Mean Differential:Q', axis=alt.Axis(title='Mean Differential')),\n",
    "    color = alt.condition(\n",
    "        alt.datum['Mean Differential'] > 0,\n",
    "        alt.value('green'),\n",
    "        alt.value('red')\n",
    "    ) \n",
    ").properties(\n",
    "    title = 'Change in Mean GPA Before and During Online Instruction',\n",
    "    width = 350\n",
    ")"
   ]
  },
  {
   "cell_type": "code",
   "execution_count": 16,
   "metadata": {},
   "outputs": [],
   "source": [
    "# plot second differential\n",
    "after_during_means = pd.DataFrame(list(sorted_after_during.items()), columns=['Department', 'Mean Differential'])\n",
    "first_and_last_ten_after_during = pd.concat([after_during_means.head(10), after_during_means.tail(10)])\n",
    "after_during_chart = alt.Chart(first_and_last_ten_after_during).mark_bar().encode(\n",
    "    x = alt.X('Department:N', sort=list(after_during_means['Department'])),\n",
    "    y = alt.Y('Mean Differential:Q', axis=alt.Axis(title='Mean Differential')),\n",
    "    color = alt.condition(\n",
    "        alt.datum['Mean Differential'] > 0,\n",
    "        alt.value('green'),\n",
    "        alt.value('red')\n",
    "    ) \n",
    ").properties(\n",
    "    title = 'Change in Mean GPA During and After Online Instruction',\n",
    "    width = 350\n",
    ")"
   ]
  },
  {
   "cell_type": "code",
   "execution_count": 17,
   "metadata": {},
   "outputs": [
    {
     "data": {
      "text/html": [
       "\n",
       "<div id=\"altair-viz-1dfc27bc7ce94c3fac985d3e38d27829\"></div>\n",
       "<script type=\"text/javascript\">\n",
       "  (function(spec, embedOpt){\n",
       "    let outputDiv = document.currentScript.previousElementSibling;\n",
       "    if (outputDiv.id !== \"altair-viz-1dfc27bc7ce94c3fac985d3e38d27829\") {\n",
       "      outputDiv = document.getElementById(\"altair-viz-1dfc27bc7ce94c3fac985d3e38d27829\");\n",
       "    }\n",
       "    const paths = {\n",
       "      \"vega\": \"https://cdn.jsdelivr.net/npm//vega@5?noext\",\n",
       "      \"vega-lib\": \"https://cdn.jsdelivr.net/npm//vega-lib?noext\",\n",
       "      \"vega-lite\": \"https://cdn.jsdelivr.net/npm//vega-lite@4.8.1?noext\",\n",
       "      \"vega-embed\": \"https://cdn.jsdelivr.net/npm//vega-embed@6?noext\",\n",
       "    };\n",
       "\n",
       "    function loadScript(lib) {\n",
       "      return new Promise(function(resolve, reject) {\n",
       "        var s = document.createElement('script');\n",
       "        s.src = paths[lib];\n",
       "        s.async = true;\n",
       "        s.onload = () => resolve(paths[lib]);\n",
       "        s.onerror = () => reject(`Error loading script: ${paths[lib]}`);\n",
       "        document.getElementsByTagName(\"head\")[0].appendChild(s);\n",
       "      });\n",
       "    }\n",
       "\n",
       "    function showError(err) {\n",
       "      outputDiv.innerHTML = `<div class=\"error\" style=\"color:red;\">${err}</div>`;\n",
       "      throw err;\n",
       "    }\n",
       "\n",
       "    function displayChart(vegaEmbed) {\n",
       "      vegaEmbed(outputDiv, spec, embedOpt)\n",
       "        .catch(err => showError(`Javascript Error: ${err.message}<br>This usually means there's a typo in your chart specification. See the javascript console for the full traceback.`));\n",
       "    }\n",
       "\n",
       "    if(typeof define === \"function\" && define.amd) {\n",
       "      requirejs.config({paths});\n",
       "      require([\"vega-embed\"], displayChart, err => showError(`Error loading script: ${err.message}`));\n",
       "    } else if (typeof vegaEmbed === \"function\") {\n",
       "      displayChart(vegaEmbed);\n",
       "    } else {\n",
       "      loadScript(\"vega\")\n",
       "        .then(() => loadScript(\"vega-lite\"))\n",
       "        .then(() => loadScript(\"vega-embed\"))\n",
       "        .catch(showError)\n",
       "        .then(() => displayChart(vegaEmbed));\n",
       "    }\n",
       "  })({\"config\": {\"view\": {\"continuousWidth\": 400, \"continuousHeight\": 300}}, \"hconcat\": [{\"data\": {\"name\": \"data-8fc3c35300dc612771297f3dd6a80ad2\"}, \"mark\": \"bar\", \"encoding\": {\"color\": {\"condition\": {\"value\": \"green\", \"test\": \"(datum['Mean Differential'] > 0)\"}, \"value\": \"red\"}, \"x\": {\"type\": \"nominal\", \"field\": \"Department\", \"sort\": [\"ED\", \"THTR\", \"TMP\", \"HEB\", \"GER\", \"FEMST\", \"MUS\", \"WRIT\", \"W&L\", \"BIOL\", \"CMPTGCS\", \"ES\", \"ECE\", \"ENGR\", \"RG\", \"SLAV\", \"JAPAN\", \"POL\", \"MS\", \"ITAL\", \"C LIT\", \"ENGL\", \"LAIS\", \"RUSS\", \"FR\", \"ART\", \"CHEM\", \"EACS\", \"KOR\", \"CNCSP\", \"PHYS\", \"ARTHI\", \"PORT\", \"SPAN\", \"CHIN\", \"ANTH\", \"FAMST\", \"CMPSC\", \"CH ST\", \"BL\", \"SHS\", \"SOC\", \"HIST\", \"GEOG\", \"PHIL\", \"GLOBL\", \"MATRL\", \"COMM\", \"ENV\", \"ESS\", \"EARTH\", \"LATIN\", \"MATH\", \"MCDB\", \"ME\", \"AS AM\", \"LING\", \"GREEK\", \"PSTAT\", \"DANCE\", \"ECON\", \"INT\", \"PSY\", \"MES\", \"CLASS\", \"EEMB\", \"ASTRO\"]}, \"y\": {\"type\": \"quantitative\", \"axis\": {\"title\": \"Mean Differential\"}, \"field\": \"Mean Differential\"}}, \"title\": \"Change in Mean GPA Before and During Online Instruction\", \"width\": 350}, {\"data\": {\"name\": \"data-b70684f63895484af10fdfa0b91b11ce\"}, \"mark\": \"bar\", \"encoding\": {\"color\": {\"condition\": {\"value\": \"green\", \"test\": \"(datum['Mean Differential'] > 0)\"}, \"value\": \"red\"}, \"x\": {\"type\": \"nominal\", \"field\": \"Department\", \"sort\": [\"ASTRO\", \"CHEM\", \"MES\", \"GEOG\", \"EEMB\", \"LATIN\", \"SOC\", \"ECON\", \"MAT\", \"ME\", \"MATH\", \"FR\", \"ENGL\", \"PHYS\", \"CMPSC\", \"PSY\", \"KOR\", \"MCDB\", \"GLOBL\", \"CH ST\", \"ART\", \"COMM\", \"EARTH\", \"ITAL\", \"EACS\", \"SHS\", \"AS AM\", \"GREEK\", \"LING\", \"RG\", \"PHIL\", \"ANTH\", \"ECE\", \"RUSS\", \"INT\", \"POL\", \"ARTHI\", \"SPAN\", \"GER\", \"BIOL\", \"CMPTGCS\", \"ES\", \"W&L\", \"PSTAT\", \"C LIT\", \"FAMST\", \"CLASS\", \"CHIN\", \"HIST\", \"WRIT\", \"MS\", \"BL\", \"PORT\", \"DANCE\", \"THTR\", \"MATRL\", \"JAPAN\", \"SLAV\", \"ENV\", \"MUS\", \"CNCSP\", \"ESS\", \"FEMST\", \"TMP\", \"ENGR\", \"LAIS\", \"ED\"]}, \"y\": {\"type\": \"quantitative\", \"axis\": {\"title\": \"Mean Differential\"}, \"field\": \"Mean Differential\"}}, \"title\": \"Change in Mean GPA During and After Online Instruction\", \"width\": 350}], \"$schema\": \"https://vega.github.io/schema/vega-lite/v4.8.1.json\", \"datasets\": {\"data-8fc3c35300dc612771297f3dd6a80ad2\": [{\"Department\": \"ED\", \"Mean Differential\": -0.10222057256423733}, {\"Department\": \"THTR\", \"Mean Differential\": -0.06920991997380721}, {\"Department\": \"TMP\", \"Mean Differential\": -0.06372184976453132}, {\"Department\": \"HEB\", \"Mean Differential\": -0.04556733588991557}, {\"Department\": \"GER\", \"Mean Differential\": -0.04011884679795186}, {\"Department\": \"FEMST\", \"Mean Differential\": -0.022727512253724047}, {\"Department\": \"MUS\", \"Mean Differential\": -0.020667855977874794}, {\"Department\": \"WRIT\", \"Mean Differential\": -0.011248007393468207}, {\"Department\": \"W&L\", \"Mean Differential\": 0.0}, {\"Department\": \"BIOL\", \"Mean Differential\": 0.0}, {\"Department\": \"GREEK\", \"Mean Differential\": 0.3185015290519875}, {\"Department\": \"PSTAT\", \"Mean Differential\": 0.32500897589652933}, {\"Department\": \"DANCE\", \"Mean Differential\": 0.3626975314728158}, {\"Department\": \"ECON\", \"Mean Differential\": 0.3632376202251355}, {\"Department\": \"INT\", \"Mean Differential\": 0.38936447452982037}, {\"Department\": \"PSY\", \"Mean Differential\": 0.39759915943844115}, {\"Department\": \"MES\", \"Mean Differential\": 0.40514705882352864}, {\"Department\": \"CLASS\", \"Mean Differential\": 0.41783403935625874}, {\"Department\": \"EEMB\", \"Mean Differential\": 0.5776733401453442}, {\"Department\": \"ASTRO\", \"Mean Differential\": 0.5970573874669682}], \"data-b70684f63895484af10fdfa0b91b11ce\": [{\"Department\": \"ASTRO\", \"Mean Differential\": -0.6144230428440958}, {\"Department\": \"CHEM\", \"Mean Differential\": -0.22330440698612541}, {\"Department\": \"MES\", \"Mean Differential\": -0.20982142857142794}, {\"Department\": \"GEOG\", \"Mean Differential\": -0.2018000943674152}, {\"Department\": \"EEMB\", \"Mean Differential\": -0.19023745050094476}, {\"Department\": \"LATIN\", \"Mean Differential\": -0.18102372034956327}, {\"Department\": \"SOC\", \"Mean Differential\": -0.18060100430083725}, {\"Department\": \"ECON\", \"Mean Differential\": -0.1560300101393528}, {\"Department\": \"MAT\", \"Mean Differential\": -0.1486593204775022}, {\"Department\": \"ME\", \"Mean Differential\": -0.14354440926412337}, {\"Department\": \"SLAV\", \"Mean Differential\": 0.05347601700060789}, {\"Department\": \"ENV\", \"Mean Differential\": 0.06724917493403337}, {\"Department\": \"MUS\", \"Mean Differential\": 0.07141094144924809}, {\"Department\": \"CNCSP\", \"Mean Differential\": 0.08071652741709112}, {\"Department\": \"ESS\", \"Mean Differential\": 0.08635319765216654}, {\"Department\": \"FEMST\", \"Mean Differential\": 0.10464035075708855}, {\"Department\": \"TMP\", \"Mean Differential\": 0.14000135589005103}, {\"Department\": \"ENGR\", \"Mean Differential\": 0.1816095680364498}, {\"Department\": \"LAIS\", \"Mean Differential\": 0.28256157289152384}, {\"Department\": \"ED\", \"Mean Differential\": 0.3862619880908462}]}}, {\"mode\": \"vega-lite\"});\n",
       "</script>"
      ],
      "text/plain": [
       "alt.HConcatChart(...)"
      ]
     },
     "execution_count": 17,
     "metadata": {},
     "output_type": "execute_result"
    }
   ],
   "source": [
    "during_before_chart | after_during_chart"
   ]
  },
  {
   "cell_type": "markdown",
   "metadata": {},
   "source": [
    "### Mean GPA change by Departments and Quarters of Choice"
   ]
  },
  {
   "cell_type": "code",
   "execution_count": 18,
   "metadata": {},
   "outputs": [],
   "source": [
    "def calculate_mean_dept_quarter(grades, quarter, course):\n",
    "    # Filter the data frame to include only the rows for the specified quarter and course\n",
    "    specified_course = grades[(grades['Quarter'] == quarter) & (grades['Course'].str.contains(course))]\n",
    "    \n",
    "    # Create a new column called Unit Points that is the product of the GPA and Sum of Student Counts columns\n",
    "    specified_course['Unit Points'] = specified_course['Sum of Student Count'] * specified_course['GPA']\n",
    "    \n",
    "    # Calculate the sums of 'Unit Points' and 'Sum of Student Count' for the filtered data frame\n",
    "    total_unit_points = specified_course['Unit Points'].sum()\n",
    "    total_sum_of_student_counts = specified_course['Sum of Student Count'].sum()\n",
    "    \n",
    "    # Calculate the mean\n",
    "    mean = total_unit_points / total_sum_of_student_counts\n",
    "    \n",
    "    # return the mean\n",
    "    return mean"
   ]
  },
  {
   "cell_type": "code",
   "execution_count": 19,
   "metadata": {},
   "outputs": [
    {
     "data": {
      "image/png": "[encoded data removed]",
      "text/plain": [
       "<Figure size 432x288 with 1 Axes>"
      ]
     },
     "metadata": {
      "needs_background": "light"
     },
     "output_type": "display_data"
    }
   ],
   "source": [
    "# Define a list of courses and quarters to plot\n",
    "courses = ['PSTAT', 'MATH', 'TMP', 'ECON', 'PSY', 'SOC']\n",
    "quarters = ['F18', 'W19', 'S19', 'M19', 'F19', 'W20',\n",
    "            'S20', 'M20', 'F20', 'W21', 'S21', 'M21',\n",
    "            'F21', 'W22', 'S22']\n",
    "\n",
    "# Create a figure and axis object\n",
    "fig, ax = plt.subplots()\n",
    "\n",
    "# Loop through the courses and plot the mean GPA for each quarter\n",
    "for course in courses:\n",
    "    means = [calculate_mean_dept_quarter(grades, quarter, course) for quarter in quarters]\n",
    "    ax.plot(quarters, means, label=course)\n",
    "\n",
    "# Add a legend and title\n",
    "ax.legend()\n",
    "ax.set_title('Mean GPA by Course and Quarter')\n",
    "\n",
    "# Show the plot\n",
    "plt.show()"
   ]
  }
 ],
 "metadata": {
  "kernelspec": {
   "display_name": "Python 3 (ipykernel)",
   "language": "python",
   "name": "python3"
  },
  "language_info": {
   "codemirror_mode": {
    "name": "ipython",
    "version": 3
   },
   "file_extension": ".py",
   "mimetype": "text/x-python",
   "name": "python",
   "nbconvert_exporter": "python",
   "pygments_lexer": "ipython3",
   "version": "3.8.8"
  }
 },
 "nbformat": 4,
 "nbformat_minor": 4
}
